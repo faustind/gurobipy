{
 "cells": [
  {
   "cell_type": "markdown",
   "metadata": {},
   "source": [
    "## The Integer Partition Problem\n",
    "\n",
    "In the _integer partition_ problem we seek to partition the elements of a set $ S $ in two sets $ A $ and $ B $ such that $ \\sum_{a \\in A} a = \\sum_{b \\in B} b $ or alternatively make the difference as small as possible [3].\n",
    "\n",
    "### Model Formulation\n",
    "\n",
    "#### Decision Variables\n",
    "\n",
    "For each $ x_i \\in S $ we create two variables $ in_{A}^i $ and $ in_{B}^i $. These variables can only take values in $ \\{0,1\\} $. And $ in_{P}^i = 1 $ if and only if $ x_i \\in P $ for $ P \\in \\{A, B\\} $.\n",
    "\n",
    "#### Constraints\n",
    "\n",
    "An element can only belong to one set in the resulting partition. So for each $ x_i \\in S $\n",
    "\n",
    "$$ in_A^i + in_B^i = 1. $$\n",
    "\n",
    "In addition, the difference must be minimized, but remain greater than 0.\n",
    "\n",
    "$$ \\sum_{a \\in A}a - \\sum_{b \\in B}b \\geq 0 $$\n",
    "\n",
    "#### Objective\n",
    "\n",
    "Since a solution to the \"strict\" partition problem does not always exists, we will try to minimize the difference of the two partitions. When the solution exits, the difference is equal to $ 0 $ and it is the smallest it can get because of the non-negativity constraint.\n",
    "\n",
    "$$ Minimize \\sum_{a \\in A}a - \\sum_{b \\in B}b $$\n",
    "\n",
    "\n",
    "### Model Deployment\n",
    "\n",
    "We begin by importing the necessary modules. Next we define a reusable function to run a model. The function `integer_partition` takes a list of integers defining an instance of the integer partition problem. It declares declare the decision variables then adds the constraints. The function `print_solution` just prints a solution returned by the function `integer_partition`."
   ]
  },
  {
   "cell_type": "code",
   "execution_count": 4,
   "metadata": {},
   "outputs": [],
   "source": [
    "import sys\n",
    "import random\n",
    "import gurobipy as gb\n",
    "\n",
    "from collections import defaultdict\n",
    "from gurobipy import GRB\n",
    "\n",
    "\n",
    "def integer_partition(S, fname=None):\n",
    "    \"\"\"Return two lists solution to the integer partition on S.\n",
    "    \n",
    "    Args:\n",
    "        S: iterable of integers\n",
    "        fname: OPTIONAL output file for the generated model\n",
    "    \"\"\"\n",
    "    \n",
    "    N = len(S)\n",
    "    \n",
    "    m = gb.Model('IP_{}'.format(fname))\n",
    "\n",
    "    # decision variables for model integer partition\n",
    "    partition = m.addVars(['A', 'B'], range(N)\n",
    "                          , name=\"in\"\n",
    "                          , vtype=GRB.BINARY)\n",
    "\n",
    "    # each elements must be in exactly one set in the partition\n",
    "    separation = m.addConstrs((partition['A', i] + partition['B', i] == 1 for i in range(N))\n",
    "                              , name=\"separation\")\n",
    "\n",
    "    # Constraint to keep the difference non negative\n",
    "    min_diff = m.addConstr(sum(S[i]*partition['A',i] \n",
    "                                for i in range(N))\n",
    "                            -sum(S[i]*partition['B',i] \n",
    "                                 for i in range(N)) >= 0\n",
    "                          , name='minimize_difference')\n",
    "\n",
    "    m.setObjective(sum(S[i]*partition['A',i] for i in range(N))\n",
    "                   - sum(S[i]*partition['B',i] for i in range(N))\n",
    "                   , GRB.MINIMIZE)\n",
    "\n",
    "    # Save generated model for inspection.\n",
    "    m.write('files/{}'.format(fname or 'integer_partition.lp'))\n",
    "    m.optimize()\n",
    "    result = defaultdict(list)\n",
    "\n",
    "    # add each element of nums to the set to which it belongs in the partition\n",
    "    for s, i in partition:\n",
    "        if partition[s, i].x >= sys.float_info.epsilon:\n",
    "            result[s].append(S[i])\n",
    "            \n",
    "    return result\n",
    "\n",
    "\n",
    "def print_solution(result):\n",
    "    \"\"\"Print a solution to the integer partition problem.\"\"\"\n",
    "    for s, items in result.items():\n",
    "        print('sum({}) = sum({}) = {}'.format(s, items, sum(items)))\n"
   ]
  },
  {
   "cell_type": "markdown",
   "metadata": {},
   "source": [
    "### Running the model\n",
    "\n",
    "We now run the model on two instances, one for which we know it has at least two solutions and the other, a random instance."
   ]
  },
  {
   "cell_type": "code",
   "execution_count": 5,
   "metadata": {},
   "outputs": [
    {
     "name": "stdout",
     "output_type": "stream",
     "text": [
      "Gurobi Optimizer version 9.0.2 build v9.0.2rc0 (linux64)\n",
      "Optimize a model with 26 rows, 50 columns and 100 nonzeros\n",
      "Model fingerprint: 0x7190bcc4\n",
      "Variable types: 0 continuous, 50 integer (50 binary)\n",
      "Coefficient statistics:\n",
      "  Matrix range     [1e+00, 1e+03]\n",
      "  Objective range  [1e+01, 1e+03]\n",
      "  Bounds range     [1e+00, 1e+00]\n",
      "  RHS range        [1e+00, 1e+00]\n",
      "Found heuristic solution: objective 1434.0000000\n",
      "Presolve removed 26 rows and 50 columns\n",
      "Presolve time: 0.00s\n",
      "Presolve: All rows and columns removed\n",
      "\n",
      "Explored 0 nodes (0 simplex iterations) in 0.07 seconds\n",
      "Thread count was 1 (of 4 available processors)\n",
      "\n",
      "Solution count 2: 0 \n",
      "\n",
      "Optimal solution found (tolerance 1.00e-04)\n",
      "Best objective 0.000000000000e+00, best bound 0.000000000000e+00, gap 0.0000%\n",
      "sum(A) = sum([779, 244, 190, 512, 970, 394, 518, 887, 908, 971, 14]) = 6387\n",
      "sum(B) = sum([423, 434, 371, 245, 753, 519, 106, 167, 34, 650, 865, 605, 441, 774]) = 6387\n"
     ]
    }
   ],
   "source": [
    "S = [423, 779, 434, 371, 244, 245, 753, 519, 106, 167, 34, 650,\n",
    "     865, 605, 441, 190, 774, 512, 970, 394, 518, 887, 908, 971, 14]\n",
    "\n",
    "\n",
    "print_solution( integer_partition(S, 'ip_feasible.lp') )"
   ]
  },
  {
   "cell_type": "code",
   "execution_count": 7,
   "metadata": {},
   "outputs": [
    {
     "name": "stdout",
     "output_type": "stream",
     "text": [
      "[372, 734, 954, 124, 985, 759, 785, 462, 522, 70, 204, 751, 343, 57, 152, 209, 724, 405, 867, 177, 701]\n",
      "Gurobi Optimizer version 9.0.2 build v9.0.2rc0 (linux64)\n",
      "Optimize a model with 22 rows, 42 columns and 84 nonzeros\n",
      "Model fingerprint: 0x39dc88a7\n",
      "Variable types: 0 continuous, 42 integer (42 binary)\n",
      "Coefficient statistics:\n",
      "  Matrix range     [1e+00, 1e+03]\n",
      "  Objective range  [6e+01, 1e+03]\n",
      "  Bounds range     [1e+00, 1e+00]\n",
      "  RHS range        [1e+00, 1e+00]\n",
      "Found heuristic solution: objective 3063.0000000\n",
      "Presolve removed 22 rows and 42 columns\n",
      "Presolve time: 0.00s\n",
      "Presolve: All rows and columns removed\n",
      "\n",
      "Explored 0 nodes (0 simplex iterations) in 0.18 seconds\n",
      "Thread count was 1 (of 4 available processors)\n",
      "\n",
      "Solution count 2: 1 \n",
      "\n",
      "Optimal solution found (tolerance 1.00e-04)\n",
      "Best objective 1.000000000000e+00, best bound 1.000000000000e+00, gap 0.0000%\n",
      "sum(A) = sum([759, 785, 343, 57, 152, 209, 724, 405, 867, 177, 701]) = 5179\n",
      "sum(B) = sum([372, 734, 954, 124, 985, 462, 522, 70, 204, 751]) = 5178\n"
     ]
    }
   ],
   "source": [
    "# Uncomment to try with a random list\n",
    "# S = list(random.choices(range(1000), k=21))\n",
    "\n",
    "S = [372, 734, 954, 124, 985, 759, 785, 462, 522, 70, 204, 751, 343, 57, 152, 209, 724, 405, 867, 177, 701]\n",
    "\n",
    "print_solution( integer_partition(S, 'ip_infeasible.lp') )"
   ]
  }
 ],
 "metadata": {
  "kernelspec": {
   "display_name": "Python 3",
   "language": "python",
   "name": "python3"
  },
  "language_info": {
   "codemirror_mode": {
    "name": "ipython",
    "version": 3
   },
   "file_extension": ".py",
   "mimetype": "text/x-python",
   "name": "python",
   "nbconvert_exporter": "python",
   "pygments_lexer": "ipython3",
   "version": "3.6.9"
  }
 },
 "nbformat": 4,
 "nbformat_minor": 4
}
