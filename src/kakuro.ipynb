{
 "cells": [
  {
   "cell_type": "code",
   "execution_count": 1,
   "metadata": {},
   "outputs": [],
   "source": [
    "import sys\n",
    "import itertools\n",
    "\n",
    "import gurobipy as gb"
   ]
  },
  {
   "cell_type": "code",
   "execution_count": 2,
   "metadata": {},
   "outputs": [],
   "source": [
    "# define target cells and allowed values\n",
    "cells = [\n",
    "           (2,3), (2,4),\n",
    "    (3,2), (3,3), (3,4), (3,5), (3,6),\n",
    "    (4,2), (4,3),        (4,5), (4,6),\n",
    "    (5,2), (5,3), (5,4), (5,5), (5,6),\n",
    "                  (6,4), (6,5)\n",
    "]\n",
    "values = list(range(1,10))"
   ]
  },
  {
   "cell_type": "code",
   "execution_count": 3,
   "metadata": {},
   "outputs": [],
   "source": [
    "# the given \n",
    "data_horizontal = {\n",
    "    3: [[(2,3), (2,4)], \n",
    "        [(4,2), (4,3)]],\n",
    "    16: [[(3,2), (3,3), (3,4), (3,5), (3,6)],\n",
    "         [(6,4), (6,5)]],\n",
    "    13: [[(4,5), (4,6)]],\n",
    "    17: [[(5,2), (5,3), (5,4), (5,5), (5,6)]]\n",
    "}\n",
    "\n",
    "data_vertical = {\n",
    "    7: [[(3,2), (4,2), (5,2)]],\n",
    "    10: [[(2,3), (3,3), (4,3), (5,3)]],\n",
    "    4: [[(2,4), (3,4)]],\n",
    "    9: [[(5,4), (6,4)]],\n",
    "    30: [[(3,5), (4,5), (5,5), (6,5)]],\n",
    "    8: [[(3,6), (4,6), (5,6)]]\n",
    "}"
   ]
  },
  {
   "cell_type": "code",
   "execution_count": 4,
   "metadata": {},
   "outputs": [
    {
     "name": "stdout",
     "output_type": "stream",
     "text": [
      "Using license file /home/faustind/gurobi.lic\n",
      "Academic license - for non-commercial use only\n"
     ]
    }
   ],
   "source": [
    "# declare and initialize model\n",
    "m = gb.Model('kakuro')"
   ]
  },
  {
   "cell_type": "code",
   "execution_count": 5,
   "metadata": {},
   "outputs": [],
   "source": [
    "# add decision variables for cell values\n",
    "assign = m.addVars(cells, values, name=\"assign\", vtype=gb.GRB.BINARY)"
   ]
  },
  {
   "cell_type": "code",
   "execution_count": 6,
   "metadata": {},
   "outputs": [],
   "source": [
    "# a single cell cannot be assigned more than one value\n",
    "unique_assignement = m.addConstrs((assign.sum(x, y, '*') == 1\n",
    "                                  for x, y in cells), 'unique_assignment')"
   ]
  },
  {
   "cell_type": "code",
   "execution_count": 7,
   "metadata": {},
   "outputs": [],
   "source": [
    "# horizontal clues constraints\n",
    "for total, lists in data_horizontal.items():\n",
    "    for i, l in enumerate(lists):\n",
    "        expr = gb.LinExpr()\n",
    "        for row, col in l:\n",
    "            for v in values:\n",
    "                expr.add(assign[row, col, v]*v)\n",
    "        m.addConstr(expr == total, \"hor_{}_{}\".format(total, i))"
   ]
  },
  {
   "cell_type": "code",
   "execution_count": 8,
   "metadata": {},
   "outputs": [],
   "source": [
    "# vertical clues constraints\n",
    "for total, lists in data_vertical.items():\n",
    "    for i, l in enumerate(lists):\n",
    "        expr = gb.LinExpr()\n",
    "        for row, col in l:\n",
    "            for v in values:\n",
    "                expr.add(assign[row, col, v]*v)\n",
    "        m.addConstr(expr == total, \"vert_{}_{}\".format(total, i))"
   ]
  },
  {
   "cell_type": "code",
   "execution_count": 9,
   "metadata": {},
   "outputs": [],
   "source": [
    "# constraint for unicity of values in the same group\n",
    "\n",
    "for _, lists in data_vertical.items():\n",
    "    for l in lists:\n",
    "        for (x1, y1), (x2, y2) in itertools.combinations(l, 2):\n",
    "            m.addConstrs(assign[x1, y1, v] + assign[x2, y2, v] <= 1 \n",
    "                        for v in values)\n",
    "            \n",
    "for _, lists in data_horizontal.items():\n",
    "    for l in lists:\n",
    "        for (x1, y1), (x2, y2) in itertools.combinations(l, 2):\n",
    "            m.addConstrs(assign[x1, y1, v] + assign[x2, y2, v] <= 1 \n",
    "                        for v in values)"
   ]
  },
  {
   "cell_type": "code",
   "execution_count": 10,
   "metadata": {},
   "outputs": [],
   "source": [
    "m.setObjective(1)"
   ]
  },
  {
   "cell_type": "code",
   "execution_count": 11,
   "metadata": {},
   "outputs": [],
   "source": [
    "m.write('files/kakuro.lp')"
   ]
  },
  {
   "cell_type": "code",
   "execution_count": 12,
   "metadata": {},
   "outputs": [
    {
     "name": "stdout",
     "output_type": "stream",
     "text": [
      "Gurobi Optimizer version 9.0.2 build v9.0.2rc0 (linux64)\n",
      "Optimize a model with 426 rows, 162 columns and 1278 nonzeros\n",
      "Model fingerprint: 0x5640372b\n",
      "Variable types: 0 continuous, 162 integer (162 binary)\n",
      "Coefficient statistics:\n",
      "  Matrix range     [1e+00, 9e+00]\n",
      "  Objective range  [0e+00, 0e+00]\n",
      "  Bounds range     [1e+00, 1e+00]\n",
      "  RHS range        [1e+00, 3e+01]\n",
      "Presolve removed 426 rows and 162 columns\n",
      "Presolve time: 0.00s\n",
      "Presolve: All rows and columns removed\n",
      "\n",
      "Explored 0 nodes (0 simplex iterations) in 0.02 seconds\n",
      "Thread count was 1 (of 4 available processors)\n",
      "\n",
      "Solution count 1: 1 \n",
      "\n",
      "Optimal solution found (tolerance 1.00e-04)\n",
      "Best objective 1.000000000000e+00, best bound 1.000000000000e+00, gap 0.0000%\n"
     ]
    }
   ],
   "source": [
    "m.optimize()"
   ]
  },
  {
   "cell_type": "code",
   "execution_count": 13,
   "metadata": {},
   "outputs": [
    {
     "name": "stdout",
     "output_type": "stream",
     "text": [
      "assign[2,3,2] 1.0\n",
      "assign[2,4,1] 1.0\n",
      "assign[3,2,1] 1.0\n",
      "assign[3,3,4] 1.0\n",
      "assign[3,4,3] 1.0\n",
      "assign[3,5,6] 1.0\n",
      "assign[3,6,2] 1.0\n",
      "assign[4,2,2] 1.0\n",
      "assign[4,3,1] 1.0\n",
      "assign[4,5,8] 1.0\n",
      "assign[4,6,5] 1.0\n",
      "assign[5,2,4] 1.0\n",
      "assign[5,3,3] 1.0\n",
      "assign[5,4,2] 1.0\n",
      "assign[5,5,7] 1.0\n",
      "assign[5,6,1] 1.0\n",
      "assign[6,4,7] 1.0\n",
      "assign[6,5,9] 1.0\n",
      "total matching score 1.0\n"
     ]
    }
   ],
   "source": [
    "# display optimal values of decision variables\n",
    "for v in m.getVars():\n",
    "    if (abs(v.x) > sys.float_info.epsilon):\n",
    "        print(v.varName, v.x)"
   ]
  }
 ],
 "metadata": {
  "kernelspec": {
   "display_name": "Python 3",
   "language": "python",
   "name": "python3"
  },
  "language_info": {
   "codemirror_mode": {
    "name": "ipython",
    "version": 3
   },
   "file_extension": ".py",
   "mimetype": "text/x-python",
   "name": "python",
   "nbconvert_exporter": "python",
   "pygments_lexer": "ipython3",
   "version": "3.6.9"
  }
 },
 "nbformat": 4,
 "nbformat_minor": 4
}
