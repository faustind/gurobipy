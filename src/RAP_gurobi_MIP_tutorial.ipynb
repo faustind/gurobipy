{
 "cells": [
  {
   "cell_type": "code",
   "execution_count": 1,
   "metadata": {},
   "outputs": [],
   "source": [
    "import sys\n",
    "from gurobipy import *"
   ]
  },
  {
   "cell_type": "code",
   "execution_count": 2,
   "metadata": {},
   "outputs": [],
   "source": [
    "# resources and jobs set\n",
    "R = ['Carlos', 'Joe', 'Monika']\n",
    "J = ['Tester', 'JavaDev', 'Architect']"
   ]
  },
  {
   "cell_type": "code",
   "execution_count": 3,
   "metadata": {
    "scrolled": true
   },
   "outputs": [
    {
     "name": "stdout",
     "output_type": "stream",
     "text": [
      "<gurobi.tuplelist (9 tuples, 2 values each):\n",
      " ( Carlos , Tester    )\n",
      " ( Carlos , JavaDev   )\n",
      " ( Carlos , Architect )\n",
      " ( Joe    , Tester    )\n",
      " ( Joe    , JavaDev   )\n",
      " ( Joe    , Architect )\n",
      " ( Monika , Tester    )\n",
      " ( Monika , JavaDev   )\n",
      " ( Monika , Architect )\n",
      "> {('Carlos', 'Tester'): 53, ('Carlos', 'JavaDev'): 27, ('Carlos', 'Architect'): 13, ('Joe', 'Tester'): 80, ('Joe', 'JavaDev'): 47, ('Joe', 'Architect'): 67, ('Monika', 'Tester'): 53, ('Monika', 'JavaDev'): 73, ('Monika', 'Architect'): 47}\n"
     ]
    }
   ],
   "source": [
    "# matching score data\n",
    "combinations, ms = multidict({\n",
    "    ('Carlos', 'Tester'): 53,\n",
    "    ('Carlos', 'JavaDev'): 27,\n",
    "    ('Carlos', 'Architect'): 13,\n",
    "    ('Joe', 'Tester'): 80,\n",
    "    ('Joe', 'JavaDev'): 47,\n",
    "    ('Joe', 'Architect'): 67,\n",
    "    ('Monika', 'Tester'): 53,\n",
    "    ('Monika', 'JavaDev'): 73,\n",
    "    ('Monika', 'Architect'): 47\n",
    "})\n",
    "\n",
    "print(combinations, ms)"
   ]
  },
  {
   "cell_type": "code",
   "execution_count": 4,
   "metadata": {},
   "outputs": [
    {
     "name": "stdout",
     "output_type": "stream",
     "text": [
      "Using license file /home/faustind/gurobi.lic\n",
      "Academic license - for non-commercial use only\n"
     ]
    }
   ],
   "source": [
    "# Declare and initialize model\n",
    "m = Model('RAP')"
   ]
  },
  {
   "cell_type": "code",
   "execution_count": 5,
   "metadata": {},
   "outputs": [
    {
     "name": "stdout",
     "output_type": "stream",
     "text": [
      "{('Carlos', 'Tester'): <gurobi.Var *Awaiting Model Update*>, ('Carlos', 'JavaDev'): <gurobi.Var *Awaiting Model Update*>, ('Carlos', 'Architect'): <gurobi.Var *Awaiting Model Update*>, ('Joe', 'Tester'): <gurobi.Var *Awaiting Model Update*>, ('Joe', 'JavaDev'): <gurobi.Var *Awaiting Model Update*>, ('Joe', 'Architect'): <gurobi.Var *Awaiting Model Update*>, ('Monika', 'Tester'): <gurobi.Var *Awaiting Model Update*>, ('Monika', 'JavaDev'): <gurobi.Var *Awaiting Model Update*>, ('Monika', 'Architect'): <gurobi.Var *Awaiting Model Update*>}\n"
     ]
    }
   ],
   "source": [
    "# Create decision variables for the RAP model\n",
    "x = m.addVars(combinations, name=\"assign\")"
   ]
  },
  {
   "cell_type": "code",
   "execution_count": 6,
   "metadata": {},
   "outputs": [],
   "source": [
    "# create jobs constraints\n",
    "jobs = m.addConstrs((x.sum('*',j) == 1 for j in J), 'job')"
   ]
  },
  {
   "cell_type": "code",
   "execution_count": 14,
   "metadata": {},
   "outputs": [
    {
     "name": "stdout",
     "output_type": "stream",
     "text": [
      "{'Carlos': <gurobi.Constr *Awaiting Model Update*>, 'Joe': <gurobi.Constr *Awaiting Model Update*>, 'Monika': <gurobi.Constr *Awaiting Model Update*>}\n"
     ]
    }
   ],
   "source": [
    "# Create resources constraints\n",
    "resources = m.addConstrs((x.sum(r, '*') <= 1 for r in R), 'resource')\n",
    "print (resources)"
   ]
  },
  {
   "cell_type": "code",
   "execution_count": 8,
   "metadata": {},
   "outputs": [],
   "source": [
    "# The objective is to maximize total matching score of the assignments\n",
    "m.setObjective(x.prod(ms), GRB.MAXIMIZE)"
   ]
  },
  {
   "cell_type": "code",
   "execution_count": 9,
   "metadata": {},
   "outputs": [],
   "source": [
    "# save model for inspection\n",
    "m.write('./files/RAP_gurobi_tutorial.lp')"
   ]
  },
  {
   "cell_type": "code",
   "execution_count": 10,
   "metadata": {},
   "outputs": [
    {
     "name": "stdout",
     "output_type": "stream",
     "text": [
      "Gurobi Optimizer version 9.0.2 build v9.0.2rc0 (linux64)\n",
      "Optimize a model with 6 rows, 9 columns and 18 nonzeros\n",
      "Model fingerprint: 0xb6602fb2\n",
      "Coefficient statistics:\n",
      "  Matrix range     [1e+00, 1e+00]\n",
      "  Objective range  [1e+01, 8e+01]\n",
      "  Bounds range     [0e+00, 0e+00]\n",
      "  RHS range        [1e+00, 1e+00]\n",
      "Presolve time: 0.01s\n",
      "Presolved: 6 rows, 9 columns, 18 nonzeros\n",
      "\n",
      "Iteration    Objective       Primal Inf.    Dual Inf.      Time\n",
      "       0    4.6000000e+32   1.800000e+31   4.600000e+02      0s\n",
      "       5    1.9300000e+02   0.000000e+00   0.000000e+00      0s\n",
      "\n",
      "Solved in 5 iterations and 0.02 seconds\n",
      "Optimal objective  1.930000000e+02\n"
     ]
    }
   ],
   "source": [
    "# run optimization engine\n",
    "m.optimize()"
   ]
  },
  {
   "cell_type": "code",
   "execution_count": 11,
   "metadata": {},
   "outputs": [
    {
     "name": "stdout",
     "output_type": "stream",
     "text": [
      "assign[Carlos,Tester] 1.0\n",
      "assign[Joe,Architect] 1.0\n",
      "assign[Monika,JavaDev] 1.0\n",
      "total matching score 193.0\n"
     ]
    }
   ],
   "source": [
    "# display optimal values of decision variables\n",
    "for v in m.getVars():\n",
    "    if (abs(v.x) > sys.float_info.epsilon):\n",
    "        print(v.varName, v.x)\n",
    "        \n",
    "# display optimal total matching score\n",
    "print('total matching score', m.objVal)"
   ]
  },
  {
   "cell_type": "code",
   "execution_count": 12,
   "metadata": {},
   "outputs": [
    {
     "ename": "NameError",
     "evalue": "name 'V' is not defined",
     "output_type": "error",
     "traceback": [
      "\u001b[0;31m---------------------------------------------------------------------------\u001b[0m",
      "\u001b[0;31mNameError\u001b[0m                                 Traceback (most recent call last)",
      "\u001b[0;32m<ipython-input-12-af688aeda998>\u001b[0m in \u001b[0;36m<module>\u001b[0;34m\u001b[0m\n\u001b[0;32m----> 1\u001b[0;31m \u001b[0mV\u001b[0m\u001b[0;34m\u001b[0m\u001b[0;34m\u001b[0m\u001b[0m\n\u001b[0m",
      "\u001b[0;31mNameError\u001b[0m: name 'V' is not defined"
     ]
    }
   ],
   "source": [
    "V"
   ]
  }
 ],
 "metadata": {
  "kernelspec": {
   "display_name": "Python 3",
   "language": "python",
   "name": "python3"
  },
  "language_info": {
   "codemirror_mode": {
    "name": "ipython",
    "version": 3
   },
   "file_extension": ".py",
   "mimetype": "text/x-python",
   "name": "python",
   "nbconvert_exporter": "python",
   "pygments_lexer": "ipython3",
   "version": "3.6.9"
  }
 },
 "nbformat": 4,
 "nbformat_minor": 4
}
